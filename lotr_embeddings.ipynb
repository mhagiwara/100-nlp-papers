{
  "nbformat": 4,
  "nbformat_minor": 0,
  "metadata": {
    "colab": {
      "name": "lotr_embeddings.ipynb",
      "provenance": [],
      "authorship_tag": "ABX9TyMDjQHCH3RGiBsRWX+1GKPV",
      "include_colab_link": true
    },
    "kernelspec": {
      "name": "python3",
      "display_name": "Python 3"
    }
  },
  "cells": [
    {
      "cell_type": "markdown",
      "metadata": {
        "id": "view-in-github",
        "colab_type": "text"
      },
      "source": [
        "<a href=\"https://colab.research.google.com/github/neelchoudhury/100-nlp-papers/blob/master/lotr_embeddings.ipynb\" target=\"_parent\"><img src=\"https://colab.research.google.com/assets/colab-badge.svg\" alt=\"Open In Colab\"/></a>"
      ]
    },
    {
      "cell_type": "code",
      "metadata": {
        "id": "qvk2GoELilua"
      },
      "source": [
        ""
      ],
      "execution_count": null,
      "outputs": []
    },
    {
      "cell_type": "markdown",
      "metadata": {
        "id": "zW3h1A2swXru"
      },
      "source": [
        "## LOTR Embeddings\n",
        "\n",
        "Ideally, I guess this should be called Middle-Earth Embeddings.\n",
        "I am going to use the following books to create embeddings - \n",
        "\n",
        "1. The LOTR Trilogy\n",
        "2. The Hobbit\n",
        "3. The Silmarillion\n",
        "\n",
        "I will add other books later, to get a better view. Maybe a good idea is also to Scrape LOTR Wiki websites to get more textual information about the Middle-Earth World."
      ]
    },
    {
      "cell_type": "code",
      "metadata": {
        "id": "L7v3KplLw32p",
        "outputId": "2f8efb41-e9d0-4cec-e053-3ce8c4e25298",
        "colab": {
          "resources": {
            "http://localhost:8080/nbextensions/google.colab/files.js": {
              "data": "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",
              "ok": true,
              "headers": [
                [
                  "content-type",
                  "application/javascript"
                ]
              ],
              "status": 200,
              "status_text": ""
            }
          },
          "base_uri": "https://localhost:8080/",
          "height": 140
        }
      },
      "source": [
        "from google.colab import files\n",
        "files = files.upload()"
      ],
      "execution_count": 1,
      "outputs": [
        {
          "output_type": "display_data",
          "data": {
            "text/html": [
              "\n",
              "     <input type=\"file\" id=\"files-a8de8c9a-0519-47ab-bfea-8940f470bd22\" name=\"files[]\" multiple disabled\n",
              "        style=\"border:none\" />\n",
              "     <output id=\"result-a8de8c9a-0519-47ab-bfea-8940f470bd22\">\n",
              "      Upload widget is only available when the cell has been executed in the\n",
              "      current browser session. Please rerun this cell to enable.\n",
              "      </output>\n",
              "      <script src=\"/nbextensions/google.colab/files.js\"></script> "
            ],
            "text/plain": [
              "<IPython.core.display.HTML object>"
            ]
          },
          "metadata": {
            "tags": []
          }
        },
        {
          "output_type": "stream",
          "text": [
            "Saving HobbitBook.json to HobbitBook.json\n",
            "Saving LordOfTheRingsBook.json to LordOfTheRingsBook.json\n",
            "Saving TheSilmarillion.txt to TheSilmarillion.txt\n"
          ],
          "name": "stdout"
        }
      ]
    },
    {
      "cell_type": "code",
      "metadata": {
        "id": "ZFCOc45Mx9jm",
        "outputId": "7e78e5bd-a3ee-4aa7-fa71-222e75c5e0ff",
        "colab": {
          "base_uri": "https://localhost:8080/",
          "height": 34
        }
      },
      "source": [
        "type(files)"
      ],
      "execution_count": 3,
      "outputs": [
        {
          "output_type": "execute_result",
          "data": {
            "text/plain": [
              "dict"
            ]
          },
          "metadata": {
            "tags": []
          },
          "execution_count": 3
        }
      ]
    },
    {
      "cell_type": "code",
      "metadata": {
        "id": "ZWfGTwktw7qC",
        "outputId": "0441b3e7-7f6a-409d-cd27-047926943dcd",
        "colab": {
          "base_uri": "https://localhost:8080/",
          "height": 68
        }
      },
      "source": [
        "for k,_ in files.items():\n",
        "  print(k)"
      ],
      "execution_count": 4,
      "outputs": [
        {
          "output_type": "stream",
          "text": [
            "HobbitBook.json\n",
            "LordOfTheRingsBook.json\n",
            "TheSilmarillion.txt\n"
          ],
          "name": "stdout"
        }
      ]
    },
    {
      "cell_type": "code",
      "metadata": {
        "id": "UWX_xHasx7He"
      },
      "source": [
        "hobbit = files['HobbitBook.json']\n",
        "lotr = files['LordOfTheRingsBook.json']\n",
        "silmarillion = files['TheSilmarillion.txt']"
      ],
      "execution_count": 5,
      "outputs": []
    },
    {
      "cell_type": "code",
      "metadata": {
        "id": "U7g93gIUyQoO",
        "outputId": "7b14b9e7-63f0-464a-f539-3cf7f3b75616",
        "colab": {
          "base_uri": "https://localhost:8080/",
          "height": 34
        }
      },
      "source": [
        "type(hobbit)"
      ],
      "execution_count": 6,
      "outputs": [
        {
          "output_type": "execute_result",
          "data": {
            "text/plain": [
              "bytes"
            ]
          },
          "metadata": {
            "tags": []
          },
          "execution_count": 6
        }
      ]
    },
    {
      "cell_type": "code",
      "metadata": {
        "id": "r5IVvi2LyR6l",
        "outputId": "13c7ca64-04cf-48ae-d0d6-4469d9595580",
        "colab": {
          "base_uri": "https://localhost:8080/",
          "height": 34
        }
      },
      "source": [
        "type(silmarillion)"
      ],
      "execution_count": 8,
      "outputs": [
        {
          "output_type": "execute_result",
          "data": {
            "text/plain": [
              "bytes"
            ]
          },
          "metadata": {
            "tags": []
          },
          "execution_count": 8
        }
      ]
    },
    {
      "cell_type": "code",
      "metadata": {
        "id": "VOLXuY6vyXZt"
      },
      "source": [
        "import json\n",
        "\n",
        "hobbit_json = json.loads(hobbit)"
      ],
      "execution_count": 12,
      "outputs": []
    },
    {
      "cell_type": "code",
      "metadata": {
        "id": "yr5pa2kHys_U",
        "outputId": "6aba7bbd-234b-44ba-8fa5-f841e4c9ba38",
        "colab": {
          "base_uri": "https://localhost:8080/",
          "height": 34
        }
      },
      "source": [
        "type(hobbit_json)"
      ],
      "execution_count": 13,
      "outputs": [
        {
          "output_type": "execute_result",
          "data": {
            "text/plain": [
              "list"
            ]
          },
          "metadata": {
            "tags": []
          },
          "execution_count": 13
        }
      ]
    },
    {
      "cell_type": "code",
      "metadata": {
        "id": "472TCOaWyw6M"
      },
      "source": [
        "lotr_json = json.loads(lotr)"
      ],
      "execution_count": 15,
      "outputs": []
    },
    {
      "cell_type": "code",
      "metadata": {
        "id": "-Gha2XOEA5rS"
      },
      "source": [
        "silmarillion_text = silmarillion.decode(\"latin1\", errors=\"ignore\")"
      ],
      "execution_count": 56,
      "outputs": []
    },
    {
      "cell_type": "code",
      "metadata": {
        "id": "gHTzWztbA-7U",
        "outputId": "a8d19690-d09a-402a-ab42-9b25bea5a84c",
        "colab": {
          "base_uri": "https://localhost:8080/",
          "height": 35
        }
      },
      "source": [
        "silmarillion_text[0:40]"
      ],
      "execution_count": 30,
      "outputs": [
        {
          "output_type": "execute_result",
          "data": {
            "application/vnd.google.colaboratory.intrinsic+json": {
              "type": "string"
            },
            "text/plain": [
              "'FOREWORD\\r\\nThe Silmarillion, now publishe'"
            ]
          },
          "metadata": {
            "tags": []
          },
          "execution_count": 30
        }
      ]
    },
    {
      "cell_type": "code",
      "metadata": {
        "id": "rNO2ERaSBGxT",
        "outputId": "9e689b33-36b1-4888-ee58-00a6d05e5b01",
        "colab": {
          "base_uri": "https://localhost:8080/",
          "height": 34
        }
      },
      "source": [
        "silmarillion[2740:2747]"
      ],
      "execution_count": 27,
      "outputs": [
        {
          "output_type": "execute_result",
          "data": {
            "text/plain": [
              "b' of T\\xfar'"
            ]
          },
          "metadata": {
            "tags": []
          },
          "execution_count": 27
        }
      ]
    },
    {
      "cell_type": "code",
      "metadata": {
        "id": "UA3JpvLBBlSE",
        "outputId": "85a3388c-8291-4ce0-ac34-318994c8cded",
        "colab": {
          "base_uri": "https://localhost:8080/",
          "height": 35
        }
      },
      "source": [
        "silmarillion_text[2740:2750]"
      ],
      "execution_count": 34,
      "outputs": [
        {
          "output_type": "execute_result",
          "data": {
            "application/vnd.google.colaboratory.intrinsic+json": {
              "type": "string"
            },
            "text/plain": [
              "' of Túrin '"
            ]
          },
          "metadata": {
            "tags": []
          },
          "execution_count": 34
        }
      ]
    },
    {
      "cell_type": "code",
      "metadata": {
        "id": "Rn0FN9usDNln"
      },
      "source": [
        "import re\n",
        "\n",
        "silmarillion_text_clean = re.sub(r'\\r|\\n', r' ', silmarillion_text.strip().lower())\n",
        "silmarillion_text_clean = re.sub(r'chapter\\s+\\d+', r'', silmarillion_text_clean)\n",
        "# silmarillion_text_clean = re.sub(r'[,:;\\.!]', r'', silmarillion_text_clean)\n",
        "# silmarillion_text_clean = re.sub(r'[\"\\']', r' ', silmarillion_text_clean)"
      ],
      "execution_count": 57,
      "outputs": []
    },
    {
      "cell_type": "code",
      "metadata": {
        "id": "5dvQ8e9HEEeU",
        "outputId": "e4ecd7dd-4db0-427a-d6de-cc103f9e1251",
        "colab": {
          "base_uri": "https://localhost:8080/",
          "height": 35
        }
      },
      "source": [
        "silmarillion_text_clean[0:200]"
      ],
      "execution_count": 58,
      "outputs": [
        {
          "output_type": "execute_result",
          "data": {
            "application/vnd.google.colaboratory.intrinsic+json": {
              "type": "string"
            },
            "text/plain": [
              "'foreword  the silmarillion, now published four years after the death of its author, is an account of the elder days, or the first age of the world. in the lord of the rings were narrated the great eve'"
            ]
          },
          "metadata": {
            "tags": []
          },
          "execution_count": 58
        }
      ]
    },
    {
      "cell_type": "code",
      "metadata": {
        "id": "8l29jviSHDBZ",
        "outputId": "8848c23e-dcc2-4698-e2de-419fa6619085",
        "colab": {
          "base_uri": "https://localhost:8080/",
          "height": 68
        }
      },
      "source": [
        "import nltk\n",
        "\n",
        "nltk.download(\"punkt\")"
      ],
      "execution_count": 51,
      "outputs": [
        {
          "output_type": "stream",
          "text": [
            "[nltk_data] Downloading package punkt to /root/nltk_data...\n",
            "[nltk_data]   Unzipping tokenizers/punkt.zip.\n"
          ],
          "name": "stdout"
        },
        {
          "output_type": "execute_result",
          "data": {
            "text/plain": [
              "True"
            ]
          },
          "metadata": {
            "tags": []
          },
          "execution_count": 51
        }
      ]
    },
    {
      "cell_type": "code",
      "metadata": {
        "id": "80UhxXNUEI2O"
      },
      "source": [
        "\n",
        "from nltk.tokenize import sent_tokenize, word_tokenize"
      ],
      "execution_count": 64,
      "outputs": []
    },
    {
      "cell_type": "code",
      "metadata": {
        "id": "A2IZXYZdG1FT"
      },
      "source": [
        "silmarillion_sent = sent_tokenize(silmarillion_text_clean)"
      ],
      "execution_count": 60,
      "outputs": []
    },
    {
      "cell_type": "code",
      "metadata": {
        "id": "_jeezOaRG-sx",
        "outputId": "3474cd9c-80c8-436b-e17e-ca0700cc64d1",
        "colab": {
          "base_uri": "https://localhost:8080/",
          "height": 34
        }
      },
      "source": [
        "len(silmarillion_sent)"
      ],
      "execution_count": 61,
      "outputs": [
        {
          "output_type": "execute_result",
          "data": {
            "text/plain": [
              "5498"
            ]
          },
          "metadata": {
            "tags": []
          },
          "execution_count": 61
        }
      ]
    },
    {
      "cell_type": "code",
      "metadata": {
        "id": "MlTru517HJSY",
        "outputId": "331821d4-5311-4131-de24-319ee281303f",
        "colab": {
          "base_uri": "https://localhost:8080/",
          "height": 35
        }
      },
      "source": [
        "silmarillion_sent[0]"
      ],
      "execution_count": 62,
      "outputs": [
        {
          "output_type": "execute_result",
          "data": {
            "application/vnd.google.colaboratory.intrinsic+json": {
              "type": "string"
            },
            "text/plain": [
              "'foreword  the silmarillion, now published four years after the death of its author, is an account of the elder days, or the first age of the world.'"
            ]
          },
          "metadata": {
            "tags": []
          },
          "execution_count": 62
        }
      ]
    },
    {
      "cell_type": "code",
      "metadata": {
        "id": "GzVUYEA-HMs4"
      },
      "source": [
        "silmarillion_tokens = []\n",
        "\n",
        "for sent in silmarillion_sent:\n",
        "  silmarillion_tokens.append(word_tokenize(sent))"
      ],
      "execution_count": 65,
      "outputs": []
    },
    {
      "cell_type": "code",
      "metadata": {
        "id": "d42B0u8DH16f",
        "outputId": "1b2a6514-206d-423c-c673-d977743e76fb",
        "colab": {
          "base_uri": "https://localhost:8080/",
          "height": 544
        }
      },
      "source": [
        "silmarillion_tokens[0]"
      ],
      "execution_count": 66,
      "outputs": [
        {
          "output_type": "execute_result",
          "data": {
            "text/plain": [
              "['foreword',\n",
              " 'the',\n",
              " 'silmarillion',\n",
              " ',',\n",
              " 'now',\n",
              " 'published',\n",
              " 'four',\n",
              " 'years',\n",
              " 'after',\n",
              " 'the',\n",
              " 'death',\n",
              " 'of',\n",
              " 'its',\n",
              " 'author',\n",
              " ',',\n",
              " 'is',\n",
              " 'an',\n",
              " 'account',\n",
              " 'of',\n",
              " 'the',\n",
              " 'elder',\n",
              " 'days',\n",
              " ',',\n",
              " 'or',\n",
              " 'the',\n",
              " 'first',\n",
              " 'age',\n",
              " 'of',\n",
              " 'the',\n",
              " 'world',\n",
              " '.']"
            ]
          },
          "metadata": {
            "tags": []
          },
          "execution_count": 66
        }
      ]
    },
    {
      "cell_type": "code",
      "metadata": {
        "id": "FWaue2eoH4LP"
      },
      "source": [
        "import gensim\n",
        "from gensim.models.phrases import Phrases, Phraser\n",
        "\n",
        "bigrams = Phrases(silmarillion_tokens)"
      ],
      "execution_count": 67,
      "outputs": []
    },
    {
      "cell_type": "code",
      "metadata": {
        "id": "9f32l-flH_Yn",
        "outputId": "380350db-225a-4d82-8d63-54e2e65073d1",
        "colab": {
          "base_uri": "https://localhost:8080/",
          "height": 51
        }
      },
      "source": [
        "silmarillion_final_tokens = []\n",
        "\n",
        "for sent in silmarillion_tokens:\n",
        "  phrases = bigrams[sent]\n",
        "  silmarillion_final_tokens.append(phrases)"
      ],
      "execution_count": 71,
      "outputs": [
        {
          "output_type": "stream",
          "text": [
            "/usr/local/lib/python3.6/dist-packages/gensim/models/phrases.py:598: UserWarning: For a faster implementation, use the gensim.models.phrases.Phraser class\n",
            "  warnings.warn(\"For a faster implementation, use the gensim.models.phrases.Phraser class\")\n"
          ],
          "name": "stderr"
        }
      ]
    },
    {
      "cell_type": "code",
      "metadata": {
        "id": "fEcuzRjuINk2",
        "outputId": "c751bfbf-d6e4-437c-a3a9-e843db9b5389",
        "colab": {
          "base_uri": "https://localhost:8080/",
          "height": 510
        }
      },
      "source": [
        "silmarillion_final_tokens[0]"
      ],
      "execution_count": 72,
      "outputs": [
        {
          "output_type": "execute_result",
          "data": {
            "text/plain": [
              "['foreword',\n",
              " 'the',\n",
              " 'silmarillion',\n",
              " ',',\n",
              " 'now',\n",
              " 'published',\n",
              " 'four',\n",
              " 'years',\n",
              " 'after',\n",
              " 'the',\n",
              " 'death',\n",
              " 'of',\n",
              " 'its',\n",
              " 'author',\n",
              " ',',\n",
              " 'is',\n",
              " 'an',\n",
              " 'account',\n",
              " 'of',\n",
              " 'the',\n",
              " 'elder_days',\n",
              " ',',\n",
              " 'or',\n",
              " 'the',\n",
              " 'first_age',\n",
              " 'of',\n",
              " 'the',\n",
              " 'world',\n",
              " '.']"
            ]
          },
          "metadata": {
            "tags": []
          },
          "execution_count": 72
        }
      ]
    },
    {
      "cell_type": "code",
      "metadata": {
        "id": "n96Y6XUXIYLW"
      },
      "source": [
        "import gensim.models\n",
        "\n",
        "model = gensim.models.Word2Vec(sentences=silmarillion_final_tokens)"
      ],
      "execution_count": 73,
      "outputs": []
    },
    {
      "cell_type": "code",
      "metadata": {
        "id": "dXdbokCMIcnG",
        "outputId": "5a28c155-9950-4279-b2c7-cf2fe7e86df8",
        "colab": {
          "base_uri": "https://localhost:8080/",
          "height": 241
        }
      },
      "source": [
        "model.wv.most_similar('fingolfin')"
      ],
      "execution_count": 84,
      "outputs": [
        {
          "output_type": "stream",
          "text": [
            "/usr/local/lib/python3.6/dist-packages/gensim/matutils.py:737: FutureWarning: Conversion of the second argument of issubdtype from `int` to `np.signedinteger` is deprecated. In future, it will be treated as `np.int64 == np.dtype(int).type`.\n",
            "  if np.issubdtype(vec.dtype, np.int):\n"
          ],
          "name": "stderr"
        },
        {
          "output_type": "execute_result",
          "data": {
            "text/plain": [
              "[('fingon', 0.9995997548103333),\n",
              " ('most', 0.9995915293693542),\n",
              " ('because', 0.9995751976966858),\n",
              " ('doriath', 0.9995064735412598),\n",
              " ('hithlum', 0.9994909763336182),\n",
              " ('finarfin', 0.9994851350784302),\n",
              " ('rose', 0.9994783401489258),\n",
              " ('orcs', 0.9994781613349915),\n",
              " ('deeds', 0.9994683265686035),\n",
              " ('valinor', 0.999459981918335)]"
            ]
          },
          "metadata": {
            "tags": []
          },
          "execution_count": 84
        }
      ]
    },
    {
      "cell_type": "code",
      "metadata": {
        "id": "te4mt0cPJWnF"
      },
      "source": [
        "hobbit_text = \"\"\n",
        "\n",
        "for block in hobbit_json:\n",
        "  hobbit_text += block['ChapterData'] + '\\r\\n'"
      ],
      "execution_count": 87,
      "outputs": []
    },
    {
      "cell_type": "code",
      "metadata": {
        "id": "h5RLKRB9Js7V"
      },
      "source": [
        "lotr_text = \"\"\n",
        "\n",
        "for block in lotr_json:\n",
        "  lotr_text += block['ChapterData'] + '\\r\\n'"
      ],
      "execution_count": 88,
      "outputs": []
    },
    {
      "cell_type": "code",
      "metadata": {
        "id": "jW-OAxzfOtwU",
        "outputId": "9bb2ed59-5c7f-4edf-e840-58fb6dfa16ca",
        "colab": {
          "base_uri": "https://localhost:8080/",
          "height": 34
        }
      },
      "source": [
        "len(silmarillion_text)"
      ],
      "execution_count": 119,
      "outputs": [
        {
          "output_type": "execute_result",
          "data": {
            "text/plain": [
              "839630"
            ]
          },
          "metadata": {
            "tags": []
          },
          "execution_count": 119
        }
      ]
    },
    {
      "cell_type": "code",
      "metadata": {
        "id": "8NTbWH4YOjbs",
        "outputId": "bf17f472-2e0c-4388-ca67-b88159a53517",
        "colab": {
          "base_uri": "https://localhost:8080/",
          "height": 34
        }
      },
      "source": [
        "len(lotr_text)"
      ],
      "execution_count": 117,
      "outputs": [
        {
          "output_type": "execute_result",
          "data": {
            "text/plain": [
              "2479084"
            ]
          },
          "metadata": {
            "tags": []
          },
          "execution_count": 117
        }
      ]
    },
    {
      "cell_type": "code",
      "metadata": {
        "id": "DNh6BJ4iOpDc",
        "outputId": "2d41584e-cdad-4a02-b4d7-331384ddbb64",
        "colab": {
          "base_uri": "https://localhost:8080/",
          "height": 34
        }
      },
      "source": [
        "len(hobbit_text)"
      ],
      "execution_count": 118,
      "outputs": [
        {
          "output_type": "execute_result",
          "data": {
            "text/plain": [
              "522163"
            ]
          },
          "metadata": {
            "tags": []
          },
          "execution_count": 118
        }
      ]
    },
    {
      "cell_type": "code",
      "metadata": {
        "id": "KH1axZcRJ28c"
      },
      "source": [
        "all_text = silmarillion_text + hobbit_text + lotr_text"
      ],
      "execution_count": 89,
      "outputs": []
    },
    {
      "cell_type": "code",
      "metadata": {
        "id": "XwJRpypGJ9yc",
        "outputId": "1d924c7b-5f13-4c30-d634-9686822772a0",
        "colab": {
          "base_uri": "https://localhost:8080/",
          "height": 34
        }
      },
      "source": [
        "len(all_text)"
      ],
      "execution_count": 90,
      "outputs": [
        {
          "output_type": "execute_result",
          "data": {
            "text/plain": [
              "3840877"
            ]
          },
          "metadata": {
            "tags": []
          },
          "execution_count": 90
        }
      ]
    },
    {
      "cell_type": "code",
      "metadata": {
        "id": "rgsa1raIPvUq"
      },
      "source": [
        "all_text_clean = re.sub(r'\\r|\\n', r' ', all_text.strip().lower())\n",
        "all_text_clean = re.sub(r'chapter\\s+\\d+', r'', all_text_clean)"
      ],
      "execution_count": 126,
      "outputs": []
    },
    {
      "cell_type": "code",
      "metadata": {
        "id": "LjtjPwTwJ_Gb"
      },
      "source": [
        "all_sent = sent_tokenize(all_text_clean)"
      ],
      "execution_count": 127,
      "outputs": []
    },
    {
      "cell_type": "code",
      "metadata": {
        "id": "Ep2bz3AYNJlI",
        "outputId": "e14e4dc8-2476-4353-dbcb-724138e604d4",
        "colab": {
          "base_uri": "https://localhost:8080/",
          "height": 136
        }
      },
      "source": [
        "all_sent[-3252:-3245]"
      ],
      "execution_count": 128,
      "outputs": [
        {
          "output_type": "execute_result",
          "data": {
            "text/plain": [
              "['they were out on the plain now and drawing near the entrance to udun.',\n",
              " 'some way in front of it, before the gate at the bridge-end, the road from the west converged with others coming from the south, and from barad-dur.',\n",
              " 'along all the roads troops were moving; for the captains of the west were advancing and the dark lord was speeding his forces north.',\n",
              " 'so it chanced that several companies came together at the road-meeting, in the dark beyond the light of the watch-fires on the wall.',\n",
              " 'at once there was great jostling and cursing as each troop tried to get first to the gate and the ending of their march.',\n",
              " 'though the drivers yelled and plied their whips, scuffles broke out and some blades were drawn.',\n",
              " 'a troop of heavy-armed uruks from barad-dur charged into the durthang line and threw them into confusion.']"
            ]
          },
          "metadata": {
            "tags": []
          },
          "execution_count": 128
        }
      ]
    },
    {
      "cell_type": "code",
      "metadata": {
        "id": "GX8kiX1WLAKR",
        "outputId": "556a09b1-8594-4f88-b66a-31d6991c5147",
        "colab": {
          "base_uri": "https://localhost:8080/",
          "height": 34
        }
      },
      "source": [
        "len(all_sent)"
      ],
      "execution_count": 129,
      "outputs": [
        {
          "output_type": "execute_result",
          "data": {
            "text/plain": [
              "44991"
            ]
          },
          "metadata": {
            "tags": []
          },
          "execution_count": 129
        }
      ]
    },
    {
      "cell_type": "code",
      "metadata": {
        "id": "BuBLdXrRLBOh"
      },
      "source": [
        "all_tokens = []\n",
        "cnt_all_tokens = 0\n",
        "\n",
        "for sent in all_sent:\n",
        "  tokens = word_tokenize(sent)\n",
        "  all_tokens.append(tokens)\n",
        "  cnt_all_tokens += len(tokens)"
      ],
      "execution_count": 130,
      "outputs": []
    },
    {
      "cell_type": "code",
      "metadata": {
        "id": "EKJrhwqJLJDZ",
        "outputId": "2ca7de40-c888-4890-e903-ec42b43d6a1f",
        "colab": {
          "base_uri": "https://localhost:8080/",
          "height": 34
        }
      },
      "source": [
        "cnt_all_tokens"
      ],
      "execution_count": 131,
      "outputs": [
        {
          "output_type": "execute_result",
          "data": {
            "text/plain": [
              "841313"
            ]
          },
          "metadata": {
            "tags": []
          },
          "execution_count": 131
        }
      ]
    },
    {
      "cell_type": "code",
      "metadata": {
        "id": "SskmS4jSLK1B"
      },
      "source": [
        "all_bigrams = Phrases(all_sent)"
      ],
      "execution_count": 132,
      "outputs": []
    },
    {
      "cell_type": "code",
      "metadata": {
        "id": "EPQK2qIgLolx",
        "outputId": "da6eb670-01ae-429d-ea1a-fe172e758ebf",
        "colab": {
          "base_uri": "https://localhost:8080/",
          "height": 51
        }
      },
      "source": [
        "all_bigram_tokens = []\n",
        "cnt_bigram_tokens = 0\n",
        "\n",
        "for sent in all_tokens:\n",
        "  bigram_tokens = bigrams[sent]\n",
        "  all_bigram_tokens.append(bigram_tokens)\n",
        "  cnt_bigram_tokens += len(bigram_tokens)"
      ],
      "execution_count": 133,
      "outputs": [
        {
          "output_type": "stream",
          "text": [
            "/usr/local/lib/python3.6/dist-packages/gensim/models/phrases.py:598: UserWarning: For a faster implementation, use the gensim.models.phrases.Phraser class\n",
            "  warnings.warn(\"For a faster implementation, use the gensim.models.phrases.Phraser class\")\n"
          ],
          "name": "stderr"
        }
      ]
    },
    {
      "cell_type": "code",
      "metadata": {
        "id": "FzDZu0CWMgHU",
        "outputId": "14351c7d-913b-40e0-fdbb-50fb76e23528",
        "colab": {
          "base_uri": "https://localhost:8080/",
          "height": 34
        }
      },
      "source": [
        "cnt_bigram_tokens"
      ],
      "execution_count": 134,
      "outputs": [
        {
          "output_type": "execute_result",
          "data": {
            "text/plain": [
              "817949"
            ]
          },
          "metadata": {
            "tags": []
          },
          "execution_count": 134
        }
      ]
    },
    {
      "cell_type": "code",
      "metadata": {
        "id": "sebuBlXPPXMb",
        "outputId": "6294352e-06c2-453a-cda7-425f18ddfdd3",
        "colab": {
          "base_uri": "https://localhost:8080/",
          "height": 1000
        }
      },
      "source": [
        "all_bigram_tokens[-3252:-3245]"
      ],
      "execution_count": 135,
      "outputs": [
        {
          "output_type": "execute_result",
          "data": {
            "text/plain": [
              "[['they',\n",
              "  'were',\n",
              "  'out',\n",
              "  'on',\n",
              "  'the',\n",
              "  'plain',\n",
              "  'now',\n",
              "  'and',\n",
              "  'drawing',\n",
              "  'near',\n",
              "  'the',\n",
              "  'entrance',\n",
              "  'to',\n",
              "  'udun',\n",
              "  '.'],\n",
              " ['some',\n",
              "  'way',\n",
              "  'in',\n",
              "  'front',\n",
              "  'of',\n",
              "  'it',\n",
              "  ',',\n",
              "  'before',\n",
              "  'the',\n",
              "  'gate',\n",
              "  'at',\n",
              "  'the',\n",
              "  'bridge-end',\n",
              "  ',',\n",
              "  'the',\n",
              "  'road',\n",
              "  'from',\n",
              "  'the',\n",
              "  'west',\n",
              "  'converged',\n",
              "  'with',\n",
              "  'others',\n",
              "  'coming',\n",
              "  'from',\n",
              "  'the',\n",
              "  'south',\n",
              "  ',',\n",
              "  'and',\n",
              "  'from',\n",
              "  'barad-dur',\n",
              "  '.'],\n",
              " ['along',\n",
              "  'all',\n",
              "  'the',\n",
              "  'roads',\n",
              "  'troops',\n",
              "  'were',\n",
              "  'moving',\n",
              "  ';',\n",
              "  'for',\n",
              "  'the',\n",
              "  'captains',\n",
              "  'of',\n",
              "  'the',\n",
              "  'west',\n",
              "  'were',\n",
              "  'advancing',\n",
              "  'and',\n",
              "  'the',\n",
              "  'dark_lord',\n",
              "  'was',\n",
              "  'speeding',\n",
              "  'his',\n",
              "  'forces',\n",
              "  'north',\n",
              "  '.'],\n",
              " ['so',\n",
              "  'it_chanced',\n",
              "  'that',\n",
              "  'several',\n",
              "  'companies',\n",
              "  'came',\n",
              "  'together',\n",
              "  'at',\n",
              "  'the',\n",
              "  'road-meeting',\n",
              "  ',',\n",
              "  'in',\n",
              "  'the',\n",
              "  'dark',\n",
              "  'beyond',\n",
              "  'the',\n",
              "  'light',\n",
              "  'of',\n",
              "  'the',\n",
              "  'watch-fires',\n",
              "  'on',\n",
              "  'the',\n",
              "  'wall',\n",
              "  '.'],\n",
              " ['at',\n",
              "  'once',\n",
              "  'there',\n",
              "  'was',\n",
              "  'great',\n",
              "  'jostling',\n",
              "  'and',\n",
              "  'cursing',\n",
              "  'as',\n",
              "  'each',\n",
              "  'troop',\n",
              "  'tried',\n",
              "  'to',\n",
              "  'get',\n",
              "  'first',\n",
              "  'to',\n",
              "  'the',\n",
              "  'gate',\n",
              "  'and',\n",
              "  'the',\n",
              "  'ending',\n",
              "  'of',\n",
              "  'their',\n",
              "  'march',\n",
              "  '.'],\n",
              " ['though',\n",
              "  'the',\n",
              "  'drivers',\n",
              "  'yelled',\n",
              "  'and',\n",
              "  'plied',\n",
              "  'their',\n",
              "  'whips',\n",
              "  ',',\n",
              "  'scuffles',\n",
              "  'broke',\n",
              "  'out',\n",
              "  'and',\n",
              "  'some',\n",
              "  'blades',\n",
              "  'were_drawn',\n",
              "  '.'],\n",
              " ['a',\n",
              "  'troop',\n",
              "  'of',\n",
              "  'heavy-armed',\n",
              "  'uruks',\n",
              "  'from',\n",
              "  'barad-dur',\n",
              "  'charged',\n",
              "  'into',\n",
              "  'the',\n",
              "  'durthang',\n",
              "  'line',\n",
              "  'and',\n",
              "  'threw',\n",
              "  'them',\n",
              "  'into',\n",
              "  'confusion',\n",
              "  '.']]"
            ]
          },
          "metadata": {
            "tags": []
          },
          "execution_count": 135
        }
      ]
    },
    {
      "cell_type": "code",
      "metadata": {
        "id": "sFvwZLm8MpIu"
      },
      "source": [
        "model_three_books = gensim.models.Word2Vec(sentences=all_bigram_tokens)"
      ],
      "execution_count": 136,
      "outputs": []
    },
    {
      "cell_type": "code",
      "metadata": {
        "id": "u-6hi0MLMzWm",
        "outputId": "aedad9c6-977b-4e88-fba6-1e9972b37346",
        "colab": {
          "base_uri": "https://localhost:8080/",
          "height": 241
        }
      },
      "source": [
        "model_three_books.wv.most_similar('frodo')"
      ],
      "execution_count": 138,
      "outputs": [
        {
          "output_type": "stream",
          "text": [
            "/usr/local/lib/python3.6/dist-packages/gensim/matutils.py:737: FutureWarning: Conversion of the second argument of issubdtype from `int` to `np.signedinteger` is deprecated. In future, it will be treated as `np.int64 == np.dtype(int).type`.\n",
            "  if np.issubdtype(vec.dtype, np.int):\n"
          ],
          "name": "stderr"
        },
        {
          "output_type": "execute_result",
          "data": {
            "text/plain": [
              "[('sam', 0.9811313152313232),\n",
              " ('pippin', 0.9463716149330139),\n",
              " ('bilbo', 0.9423794746398926),\n",
              " ('gollum', 0.9355931282043457),\n",
              " ('gandalf', 0.9116418361663818),\n",
              " ('merry', 0.8822979927062988),\n",
              " ('boromir', 0.8775188326835632),\n",
              " ('aragorn', 0.8722878694534302),\n",
              " ('faramir', 0.8624827861785889),\n",
              " ('strider', 0.8527661561965942)]"
            ]
          },
          "metadata": {
            "tags": []
          },
          "execution_count": 138
        }
      ]
    },
    {
      "cell_type": "code",
      "metadata": {
        "id": "A7sUCpuHM7Ue",
        "outputId": "de3e2f7b-e181-419e-f7a9-d8509d0e60d3",
        "colab": {
          "base_uri": "https://localhost:8080/",
          "height": 241
        }
      },
      "source": [
        "model_three_books.wv.most_similar('gandalf')"
      ],
      "execution_count": 139,
      "outputs": [
        {
          "output_type": "stream",
          "text": [
            "/usr/local/lib/python3.6/dist-packages/gensim/matutils.py:737: FutureWarning: Conversion of the second argument of issubdtype from `int` to `np.signedinteger` is deprecated. In future, it will be treated as `np.int64 == np.dtype(int).type`.\n",
            "  if np.issubdtype(vec.dtype, np.int):\n"
          ],
          "name": "stderr"
        },
        {
          "output_type": "execute_result",
          "data": {
            "text/plain": [
              "[('strider', 0.9559337496757507),\n",
              " ('boromir', 0.9453694224357605),\n",
              " ('aragorn', 0.9385251998901367),\n",
              " ('faramir', 0.937170684337616),\n",
              " ('merry', 0.9339939951896667),\n",
              " ('bilbo', 0.9133778214454651),\n",
              " ('frodo', 0.9116418361663818),\n",
              " ('pippin', 0.9091291427612305),\n",
              " ('sam', 0.9045179486274719),\n",
              " ('gimli', 0.8939559459686279)]"
            ]
          },
          "metadata": {
            "tags": []
          },
          "execution_count": 139
        }
      ]
    },
    {
      "cell_type": "code",
      "metadata": {
        "id": "_n2wOs2oQD3B",
        "outputId": "f38787d0-c7c9-4306-e87f-541f30f80616",
        "colab": {
          "base_uri": "https://localhost:8080/",
          "height": 241
        }
      },
      "source": [
        "model_three_books.wv.most_similar('sauron')"
      ],
      "execution_count": 141,
      "outputs": [
        {
          "output_type": "stream",
          "text": [
            "/usr/local/lib/python3.6/dist-packages/gensim/matutils.py:737: FutureWarning: Conversion of the second argument of issubdtype from `int` to `np.signedinteger` is deprecated. In future, it will be treated as `np.int64 == np.dtype(int).type`.\n",
            "  if np.issubdtype(vec.dtype, np.int):\n"
          ],
          "name": "stderr"
        },
        {
          "output_type": "execute_result",
          "data": {
            "text/plain": [
              "[('morgoth', 0.9273006319999695),\n",
              " ('saruman', 0.8866622447967529),\n",
              " ('ilúvatar', 0.8389760255813599),\n",
              " ('melkor', 0.8328588008880615),\n",
              " ('that_time', 0.822688102722168),\n",
              " ('enemy', 0.8195509314537048),\n",
              " ('ulmo', 0.8155595660209656),\n",
              " ('fëanor', 0.8135055899620056),\n",
              " ('beginning', 0.8030401468276978),\n",
              " ('substance', 0.7994720935821533)]"
            ]
          },
          "metadata": {
            "tags": []
          },
          "execution_count": 141
        }
      ]
    },
    {
      "cell_type": "code",
      "metadata": {
        "id": "T81JoyjbQJJo",
        "outputId": "04677e8a-f710-4abe-b79d-5fb76552ef74",
        "colab": {
          "base_uri": "https://localhost:8080/",
          "height": 241
        }
      },
      "source": [
        "model_three_books.wv.most_similar('glaurung')"
      ],
      "execution_count": 143,
      "outputs": [
        {
          "output_type": "stream",
          "text": [
            "/usr/local/lib/python3.6/dist-packages/gensim/matutils.py:737: FutureWarning: Conversion of the second argument of issubdtype from `int` to `np.signedinteger` is deprecated. In future, it will be treated as `np.int64 == np.dtype(int).type`.\n",
            "  if np.issubdtype(vec.dtype, np.int):\n"
          ],
          "name": "stderr"
        },
        {
          "output_type": "execute_result",
          "data": {
            "text/plain": [
              "[('maedhros', 0.9555717706680298),\n",
              " ('fingon', 0.9531328678131104),\n",
              " ('weeping', 0.9515796303749084),\n",
              " ('celegorm', 0.9502866268157959),\n",
              " ('tuor', 0.9493952393531799),\n",
              " ('mîm', 0.9433969259262085),\n",
              " ('despair', 0.9427868723869324),\n",
              " ('finishing', 0.9427171945571899),\n",
              " ('melian', 0.9419878125190735),\n",
              " ('gasp', 0.941307544708252)]"
            ]
          },
          "metadata": {
            "tags": []
          },
          "execution_count": 143
        }
      ]
    },
    {
      "cell_type": "code",
      "metadata": {
        "id": "XJ1EKgXFQQAp",
        "outputId": "0bdb796f-0571-40c4-8dbb-b7725341b13c",
        "colab": {
          "base_uri": "https://localhost:8080/",
          "height": 241
        }
      },
      "source": [
        "model_three_books.wv.most_similar('ancalagon')"
      ],
      "execution_count": 144,
      "outputs": [
        {
          "output_type": "stream",
          "text": [
            "/usr/local/lib/python3.6/dist-packages/gensim/matutils.py:737: FutureWarning: Conversion of the second argument of issubdtype from `int` to `np.signedinteger` is deprecated. In future, it will be treated as `np.int64 == np.dtype(int).type`.\n",
            "  if np.issubdtype(vec.dtype, np.int):\n"
          ],
          "name": "stderr"
        },
        {
          "output_type": "execute_result",
          "data": {
            "text/plain": [
              "[('fortress', 0.9654216766357422),\n",
              " ('text_as', 0.9558560848236084),\n",
              " ('green_mound', 0.9533474445343018),\n",
              " ('torrent', 0.9515771865844727),\n",
              " ('quenya_name', 0.9505199790000916),\n",
              " ('tombs', 0.9495702981948853),\n",
              " ('founded', 0.9477051496505737),\n",
              " ('girdle', 0.9438568353652954),\n",
              " ('fastness', 0.943145215511322),\n",
              " ('d_)', 0.9412729740142822)]"
            ]
          },
          "metadata": {
            "tags": []
          },
          "execution_count": 144
        }
      ]
    },
    {
      "cell_type": "code",
      "metadata": {
        "id": "SVpwuk4SQVNZ",
        "outputId": "da1cfcc3-ecad-4296-87d5-1ea9b8e5d871",
        "colab": {
          "base_uri": "https://localhost:8080/",
          "height": 241
        }
      },
      "source": [
        "model_three_books.wv.most_similar('smaug')"
      ],
      "execution_count": 145,
      "outputs": [
        {
          "output_type": "stream",
          "text": [
            "/usr/local/lib/python3.6/dist-packages/gensim/matutils.py:737: FutureWarning: Conversion of the second argument of issubdtype from `int` to `np.signedinteger` is deprecated. In future, it will be treated as `np.int64 == np.dtype(int).type`.\n",
            "  if np.issubdtype(vec.dtype, np.int):\n"
          ],
          "name": "stderr"
        },
        {
          "output_type": "execute_result",
          "data": {
            "text/plain": [
              "[('difference', 0.958035945892334),\n",
              " ('laws', 0.9550260305404663),\n",
              " ('unlikely', 0.9517083168029785),\n",
              " (\"'nothing\", 0.9511921405792236),\n",
              " ('shelob', 0.9493365287780762),\n",
              " ('pinch', 0.9490600824356079),\n",
              " ('riddles', 0.9458019733428955),\n",
              " ('troll', 0.9456537961959839),\n",
              " ('fatty', 0.9434322118759155),\n",
              " ('thief', 0.9426092505455017)]"
            ]
          },
          "metadata": {
            "tags": []
          },
          "execution_count": 145
        }
      ]
    },
    {
      "cell_type": "code",
      "metadata": {
        "id": "gwkUwUpCQdtu",
        "outputId": "0caeaa2d-7d9e-46c2-bc41-0f7b7dca9653",
        "colab": {
          "base_uri": "https://localhost:8080/",
          "height": 241
        }
      },
      "source": [
        "model_three_books.wv.most_similar('elrond')"
      ],
      "execution_count": 146,
      "outputs": [
        {
          "output_type": "stream",
          "text": [
            "/usr/local/lib/python3.6/dist-packages/gensim/matutils.py:737: FutureWarning: Conversion of the second argument of issubdtype from `int` to `np.signedinteger` is deprecated. In future, it will be treated as `np.int64 == np.dtype(int).type`.\n",
            "  if np.issubdtype(vec.dtype, np.int):\n"
          ],
          "name": "stderr"
        },
        {
          "output_type": "execute_result",
          "data": {
            "text/plain": [
              "[('denethor', 0.9357262253761292),\n",
              " ('theoden', 0.9018715023994446),\n",
              " ('glóin', 0.8980854749679565),\n",
              " ('galadriel', 0.8768000602722168),\n",
              " ('eomer', 0.8759504556655884),\n",
              " ('thorin', 0.8740214109420776),\n",
              " ('balin', 0.8638989925384521),\n",
              " ('eomund', 0.8636239767074585),\n",
              " ('butterbur', 0.8514596223831177),\n",
              " ('éomer', 0.8510818481445312)]"
            ]
          },
          "metadata": {
            "tags": []
          },
          "execution_count": 146
        }
      ]
    },
    {
      "cell_type": "code",
      "metadata": {
        "id": "ovKsfshdQiKq",
        "outputId": "1ec84104-0a7f-4af0-a5e8-d06ced3427b4",
        "colab": {
          "base_uri": "https://localhost:8080/",
          "height": 241
        }
      },
      "source": [
        "model_three_books.wv.most_similar('gollum')"
      ],
      "execution_count": 147,
      "outputs": [
        {
          "output_type": "stream",
          "text": [
            "/usr/local/lib/python3.6/dist-packages/gensim/matutils.py:737: FutureWarning: Conversion of the second argument of issubdtype from `int` to `np.signedinteger` is deprecated. In future, it will be treated as `np.int64 == np.dtype(int).type`.\n",
            "  if np.issubdtype(vec.dtype, np.int):\n"
          ],
          "name": "stderr"
        },
        {
          "output_type": "execute_result",
          "data": {
            "text/plain": [
              "[('frodo', 0.9355930685997009),\n",
              " ('bilbo', 0.9346021413803101),\n",
              " ('sam', 0.9125850200653076),\n",
              " ('boromir', 0.8865759968757629),\n",
              " ('gandalf', 0.8857231736183167),\n",
              " ('pippin', 0.8610973358154297),\n",
              " ('strider', 0.8465977907180786),\n",
              " ('faramir', 0.8461841344833374),\n",
              " ('he', 0.8436329364776611),\n",
              " ('treebeard', 0.83555006980896)]"
            ]
          },
          "metadata": {
            "tags": []
          },
          "execution_count": 147
        }
      ]
    },
    {
      "cell_type": "code",
      "metadata": {
        "id": "FVfvsSRbRBm4",
        "outputId": "d4768aaa-0392-42ce-d13f-c094e51dadf9",
        "colab": {
          "base_uri": "https://localhost:8080/",
          "height": 241
        }
      },
      "source": [
        "model_three_books.wv.most_similar('shire')"
      ],
      "execution_count": 148,
      "outputs": [
        {
          "output_type": "stream",
          "text": [
            "/usr/local/lib/python3.6/dist-packages/gensim/matutils.py:737: FutureWarning: Conversion of the second argument of issubdtype from `int` to `np.signedinteger` is deprecated. In future, it will be treated as `np.int64 == np.dtype(int).type`.\n",
            "  if np.issubdtype(vec.dtype, np.int):\n"
          ],
          "name": "stderr"
        },
        {
          "output_type": "execute_result",
          "data": {
            "text/plain": [
              "[('rivendell', 0.8692772388458252),\n",
              " ('eldar', 0.857909083366394),\n",
              " ('peace', 0.8325352668762207),\n",
              " ('war', 0.83222895860672),\n",
              " ('enemy', 0.8309415578842163),\n",
              " ('ways', 0.8300570249557495),\n",
              " ('fight', 0.821245551109314),\n",
              " ('friendship', 0.8193013668060303),\n",
              " ('southfarthing', 0.8191047310829163),\n",
              " ('youth', 0.8149329423904419)]"
            ]
          },
          "metadata": {
            "tags": []
          },
          "execution_count": 148
        }
      ]
    },
    {
      "cell_type": "code",
      "metadata": {
        "id": "XXDqwm8jRGAP",
        "outputId": "70f9df7c-e76a-46dd-ca0b-7fbcbdafbc28",
        "colab": {
          "base_uri": "https://localhost:8080/",
          "height": 241
        }
      },
      "source": [
        "model_three_books.wv.most_similar('gondor')"
      ],
      "execution_count": 149,
      "outputs": [
        {
          "output_type": "stream",
          "text": [
            "/usr/local/lib/python3.6/dist-packages/gensim/matutils.py:737: FutureWarning: Conversion of the second argument of issubdtype from `int` to `np.signedinteger` is deprecated. In future, it will be treated as `np.int64 == np.dtype(int).type`.\n",
            "  if np.issubdtype(vec.dtype, np.int):\n"
          ],
          "name": "stderr"
        },
        {
          "output_type": "execute_result",
          "data": {
            "text/plain": [
              "[('rohan', 0.889488697052002),\n",
              " ('kings', 0.8645479083061218),\n",
              " ('beleriand', 0.8291288614273071),\n",
              " ('moria', 0.8205814957618713),\n",
              " ('lords', 0.8183269500732422),\n",
              " ('languages', 0.8126538991928101),\n",
              " ('children', 0.8110241293907166),\n",
              " ('lórien', 0.8083497285842896),\n",
              " ('descendants', 0.8074419498443604),\n",
              " ('aman', 0.805523693561554)]"
            ]
          },
          "metadata": {
            "tags": []
          },
          "execution_count": 149
        }
      ]
    },
    {
      "cell_type": "code",
      "metadata": {
        "id": "Dzez2CsRRVtv",
        "outputId": "f483f452-4648-4194-d818-52059e36d69e",
        "colab": {
          "base_uri": "https://localhost:8080/",
          "height": 241
        }
      },
      "source": [
        "model_three_books.wv.most_similar('mordor')"
      ],
      "execution_count": 150,
      "outputs": [
        {
          "output_type": "stream",
          "text": [
            "/usr/local/lib/python3.6/dist-packages/gensim/matutils.py:737: FutureWarning: Conversion of the second argument of issubdtype from `int` to `np.signedinteger` is deprecated. In future, it will be treated as `np.int64 == np.dtype(int).type`.\n",
            "  if np.issubdtype(vec.dtype, np.int):\n"
          ],
          "name": "stderr"
        },
        {
          "output_type": "execute_result",
          "data": {
            "text/plain": [
              "[('borders', 0.9196503162384033),\n",
              " ('mirkwood', 0.9182040691375732),\n",
              " ('isengard', 0.9105217456817627),\n",
              " ('aman', 0.9073267579078674),\n",
              " ('beleriand', 0.8923590779304504),\n",
              " ('ford', 0.8876895904541016),\n",
              " ('ruin', 0.887398362159729),\n",
              " ('downs', 0.8872861266136169),\n",
              " ('woods', 0.8851507306098938),\n",
              " ('moria', 0.8776147961616516)]"
            ]
          },
          "metadata": {
            "tags": []
          },
          "execution_count": 150
        }
      ]
    },
    {
      "cell_type": "code",
      "metadata": {
        "id": "5g9MRYPsRc1P",
        "outputId": "e7f4da57-e785-48d3-c888-c4a4d79c517f",
        "colab": {
          "base_uri": "https://localhost:8080/",
          "height": 241
        }
      },
      "source": [
        "model_three_books.wv.most_similar('orcs')"
      ],
      "execution_count": 151,
      "outputs": [
        {
          "output_type": "stream",
          "text": [
            "/usr/local/lib/python3.6/dist-packages/gensim/matutils.py:737: FutureWarning: Conversion of the second argument of issubdtype from `int` to `np.signedinteger` is deprecated. In future, it will be treated as `np.int64 == np.dtype(int).type`.\n",
            "  if np.issubdtype(vec.dtype, np.int):\n"
          ],
          "name": "stderr"
        },
        {
          "output_type": "execute_result",
          "data": {
            "text/plain": [
              "[('riders', 0.8830175399780273),\n",
              " ('valar', 0.8718794584274292),\n",
              " ('goblins', 0.8650541305541992),\n",
              " ('dwarves', 0.8378405570983887),\n",
              " ('eldar', 0.8375397324562073),\n",
              " ('ents', 0.8293201923370361),\n",
              " ('others', 0.8286027908325195),\n",
              " ('middle-earth', 0.824885368347168),\n",
              " ('those', 0.8205505013465881),\n",
              " ('pursuers', 0.8203446865081787)]"
            ]
          },
          "metadata": {
            "tags": []
          },
          "execution_count": 151
        }
      ]
    },
    {
      "cell_type": "code",
      "metadata": {
        "id": "w6tbfPqGReVP",
        "outputId": "b6487295-838b-4d45-e5f2-737056a17492",
        "colab": {
          "base_uri": "https://localhost:8080/",
          "height": 241
        }
      },
      "source": [
        "model_three_books.wv.most_similar('hobbits')"
      ],
      "execution_count": 152,
      "outputs": [
        {
          "output_type": "stream",
          "text": [
            "/usr/local/lib/python3.6/dist-packages/gensim/matutils.py:737: FutureWarning: Conversion of the second argument of issubdtype from `int` to `np.signedinteger` is deprecated. In future, it will be treated as `np.int64 == np.dtype(int).type`.\n",
            "  if np.issubdtype(vec.dtype, np.int):\n"
          ],
          "name": "stderr"
        },
        {
          "output_type": "execute_result",
          "data": {
            "text/plain": [
              "[('others', 0.8941866755485535),\n",
              " ('dwarves', 0.832573652267456),\n",
              " ('they', 0.8317553400993347),\n",
              " ('goblins', 0.7809754610061646),\n",
              " ('orcs', 0.7736722230911255),\n",
              " ('pursuers', 0.7668974995613098),\n",
              " ('company', 0.7522684335708618),\n",
              " ('travellers', 0.7400654554367065),\n",
              " ('spiders', 0.713121771812439),\n",
              " ('voices', 0.7116217017173767)]"
            ]
          },
          "metadata": {
            "tags": []
          },
          "execution_count": 152
        }
      ]
    },
    {
      "cell_type": "code",
      "metadata": {
        "id": "KIfWuh9KRkmm",
        "outputId": "e1f9ccfc-6089-4e95-a11e-c2c367d21b53",
        "colab": {
          "base_uri": "https://localhost:8080/",
          "height": 241
        }
      },
      "source": [
        "model_three_books.wv.most_similar('hobbit')"
      ],
      "execution_count": 153,
      "outputs": [
        {
          "output_type": "stream",
          "text": [
            "/usr/local/lib/python3.6/dist-packages/gensim/matutils.py:737: FutureWarning: Conversion of the second argument of issubdtype from `int` to `np.signedinteger` is deprecated. In future, it will be treated as `np.int64 == np.dtype(int).type`.\n",
            "  if np.issubdtype(vec.dtype, np.int):\n"
          ],
          "name": "stderr"
        },
        {
          "output_type": "execute_result",
          "data": {
            "text/plain": [
              "[('dwarf', 0.8909330368041992),\n",
              " ('baggins', 0.8609179258346558),\n",
              " ('wizard', 0.8376719355583191),\n",
              " ('boromir', 0.8161255717277527),\n",
              " ('g', 0.8131849765777588),\n",
              " ('butterbur', 0.8084607720375061),\n",
              " ('bilbo', 0.8066343069076538),\n",
              " ('man', 0.8059030771255493),\n",
              " ('sake', 0.8029026985168457),\n",
              " ('thorin', 0.799715518951416)]"
            ]
          },
          "metadata": {
            "tags": []
          },
          "execution_count": 153
        }
      ]
    },
    {
      "cell_type": "code",
      "metadata": {
        "id": "SIVvGffESBzJ"
      },
      "source": [
        "from sklearn.decomposition import IncrementalPCA\n",
        "from sklearn.manifold import TSNE\n",
        "import numpy as np\n",
        "%matplotlib inline\n",
        "\n",
        "def reduce_dimensions(model):\n",
        "    num_dimensions = 2  # final num dimensions (2D, 3D, etc)\n",
        "\n",
        "    vectors = [] # positions in vector space\n",
        "    labels = [] # keep track of words to label our data again later\n",
        "    for word in model.wv.vocab:\n",
        "        vectors.append(model.wv[word])\n",
        "        labels.append(word)\n",
        "\n",
        "    # convert both lists into numpy vectors for reduction\n",
        "    vectors = np.asarray(vectors)\n",
        "    labels = np.asarray(labels)\n",
        "\n",
        "    # reduce using t-SNE\n",
        "    vectors = np.asarray(vectors)\n",
        "    tsne = TSNE(n_components=num_dimensions, random_state=0)\n",
        "    vectors = tsne.fit_transform(vectors)\n",
        "\n",
        "    x_vals = [v[0] for v in vectors]\n",
        "    y_vals = [v[1] for v in vectors]\n",
        "    return x_vals, y_vals, labels\n",
        "\n",
        "\n",
        "x_vals, y_vals, labels = reduce_dimensions(model_three_books)"
      ],
      "execution_count": 157,
      "outputs": []
    },
    {
      "cell_type": "code",
      "metadata": {
        "id": "57dM9IyuRmhn",
        "outputId": "9d28698f-a8a9-4198-b826-2274998fba6e",
        "colab": {
          "base_uri": "https://localhost:8080/",
          "height": 734
        }
      },
      "source": [
        "import matplotlib.pyplot as plt\n",
        "import random\n",
        "%matplotlib inline\n",
        "\n",
        "random.seed(0)\n",
        "print(\"before\")\n",
        "plt.figure(figsize=(12, 12))\n",
        "plt.scatter(x_vals, y_vals)\n",
        "\n",
        "# Label randomly subsampled 25 data points\n",
        "#\n",
        "\n",
        "\n",
        "indices = list(range(len(labels)))\n",
        "selected_indices = random.sample(indices, 25)\n",
        "for i in selected_indices:\n",
        "    plt.annotate(labels[i], (x_vals[i], y_vals[i]))\n",
        "plt.show();\n",
        "print(\"after\")"
      ],
      "execution_count": 160,
      "outputs": [
        {
          "output_type": "stream",
          "text": [
            "before\n"
          ],
          "name": "stdout"
        },
        {
          "output_type": "display_data",
          "data": {
            "image/png": "[encoded data removed]",
            "text/plain": [
              "<Figure size 864x864 with 1 Axes>"
            ]
          },
          "metadata": {
            "tags": [],
            "needs_background": "light"
          }
        },
        {
          "output_type": "stream",
          "text": [
            "after\n"
          ],
          "name": "stdout"
        }
      ]
    },
    {
      "cell_type": "code",
      "metadata": {
        "id": "URUgxEAUR7iG",
        "outputId": "671033f8-d86c-49ca-9df0-5aec82a6123c",
        "colab": {
          "base_uri": "https://localhost:8080/",
          "height": 34
        }
      },
      "source": [
        "import time\n",
        "\n",
        "st = time.time()\n",
        "model_three_books.train(all_bigram_tokens, total_words=model_three_books.corpus_total_words, epochs=100)\n",
        "et = time.time()\n",
        "\n",
        "print(et-st)"
      ],
      "execution_count": 162,
      "outputs": [
        {
          "output_type": "stream",
          "text": [
            "89.28402495384216\n"
          ],
          "name": "stdout"
        }
      ]
    },
    {
      "cell_type": "code",
      "metadata": {
        "id": "ZApyqdBnTY2b",
        "outputId": "2cd34ec9-6a0f-4d4b-c5c2-1c1c0f3a58e2",
        "colab": {
          "base_uri": "https://localhost:8080/",
          "height": 241
        }
      },
      "source": [
        "model_three_books.wv.most_similar(\"smaug\")"
      ],
      "execution_count": 163,
      "outputs": [
        {
          "output_type": "stream",
          "text": [
            "/usr/local/lib/python3.6/dist-packages/gensim/matutils.py:737: FutureWarning: Conversion of the second argument of issubdtype from `int` to `np.signedinteger` is deprecated. In future, it will be treated as `np.int64 == np.dtype(int).type`.\n",
            "  if np.issubdtype(vec.dtype, np.int):\n"
          ],
          "name": "stderr"
        },
        {
          "output_type": "execute_result",
          "data": {
            "text/plain": [
              "[('dragon', 0.5151079297065735),\n",
              " ('goblins', 0.4186294674873352),\n",
              " ('dori', 0.4024121165275574),\n",
              " ('morgoth', 0.3964056968688965),\n",
              " ('shelob', 0.39089828729629517),\n",
              " ('balin', 0.37216487526893616),\n",
              " ('bombur', 0.3710308372974396),\n",
              " ('bilbo', 0.36994537711143494),\n",
              " ('everybody', 0.36615467071533203),\n",
              " ('enemy', 0.36508235335350037)]"
            ]
          },
          "metadata": {
            "tags": []
          },
          "execution_count": 163
        }
      ]
    },
    {
      "cell_type": "code",
      "metadata": {
        "id": "41hgo_1uaAsM"
      },
      "source": [
        ""
      ],
      "execution_count": null,
      "outputs": []
    }
  ]
}